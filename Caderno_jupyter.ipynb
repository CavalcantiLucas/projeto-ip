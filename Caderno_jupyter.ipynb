{
 "cells": [
  {
   "cell_type": "markdown",
   "id": "24614344",
   "metadata": {},
   "source": [
    "# CENSO DO ENSINO SUPERIOR 2019 - INEP"
   ]
  },
  {
   "cell_type": "code",
   "execution_count": 2,
   "id": "c6cc4b64",
   "metadata": {},
   "outputs": [
    {
     "data": {
      "text/html": [
       "<div>\n",
       "<style scoped>\n",
       "    .dataframe tbody tr th:only-of-type {\n",
       "        vertical-align: middle;\n",
       "    }\n",
       "\n",
       "    .dataframe tbody tr th {\n",
       "        vertical-align: top;\n",
       "    }\n",
       "\n",
       "    .dataframe thead th {\n",
       "        text-align: right;\n",
       "    }\n",
       "</style>\n",
       "<table border=\"1\" class=\"dataframe\">\n",
       "  <thead>\n",
       "    <tr style=\"text-align: right;\">\n",
       "      <th></th>\n",
       "      <th>NU_ANO_CENSO</th>\n",
       "      <th>CO_IES</th>\n",
       "      <th>TP_CATEGORIA_ADMINISTRATIVA</th>\n",
       "      <th>TP_ORGANIZACAO_ACADEMICA</th>\n",
       "      <th>CO_CURSO</th>\n",
       "      <th>CO_CURSO_POLO</th>\n",
       "      <th>TP_TURNO</th>\n",
       "      <th>TP_GRAU_ACADEMICO</th>\n",
       "      <th>TP_MODALIDADE_ENSINO</th>\n",
       "      <th>TP_NIVEL_ACADEMICO</th>\n",
       "      <th>...</th>\n",
       "      <th>TP_MOBILIDADE_ACADEMICA</th>\n",
       "      <th>TP_MOBILIDADE_ACADEMICA_INTERN</th>\n",
       "      <th>CO_IES_DESTINO</th>\n",
       "      <th>CO_PAIS_DESTINO</th>\n",
       "      <th>IN_MATRICULA</th>\n",
       "      <th>IN_CONCLUINTE</th>\n",
       "      <th>IN_INGRESSO_TOTAL</th>\n",
       "      <th>IN_INGRESSO_VAGA_NOVA</th>\n",
       "      <th>IN_INGRESSO_PROCESSO_SELETIVO</th>\n",
       "      <th>NU_ANO_INGRESSO</th>\n",
       "    </tr>\n",
       "  </thead>\n",
       "  <tbody>\n",
       "    <tr>\n",
       "      <th>0</th>\n",
       "      <td>2019</td>\n",
       "      <td>1</td>\n",
       "      <td>1</td>\n",
       "      <td>1</td>\n",
       "      <td>1</td>\n",
       "      <td>NaN</td>\n",
       "      <td>3.0</td>\n",
       "      <td>1.0</td>\n",
       "      <td>1</td>\n",
       "      <td>1</td>\n",
       "      <td>...</td>\n",
       "      <td>NaN</td>\n",
       "      <td>NaN</td>\n",
       "      <td>NaN</td>\n",
       "      <td>NaN</td>\n",
       "      <td>1</td>\n",
       "      <td>1</td>\n",
       "      <td>0</td>\n",
       "      <td>0</td>\n",
       "      <td>NaN</td>\n",
       "      <td>2013</td>\n",
       "    </tr>\n",
       "    <tr>\n",
       "      <th>1</th>\n",
       "      <td>2019</td>\n",
       "      <td>1</td>\n",
       "      <td>1</td>\n",
       "      <td>1</td>\n",
       "      <td>1</td>\n",
       "      <td>NaN</td>\n",
       "      <td>3.0</td>\n",
       "      <td>1.0</td>\n",
       "      <td>1</td>\n",
       "      <td>1</td>\n",
       "      <td>...</td>\n",
       "      <td>NaN</td>\n",
       "      <td>NaN</td>\n",
       "      <td>NaN</td>\n",
       "      <td>NaN</td>\n",
       "      <td>1</td>\n",
       "      <td>0</td>\n",
       "      <td>0</td>\n",
       "      <td>0</td>\n",
       "      <td>NaN</td>\n",
       "      <td>2018</td>\n",
       "    </tr>\n",
       "    <tr>\n",
       "      <th>2</th>\n",
       "      <td>2019</td>\n",
       "      <td>1</td>\n",
       "      <td>1</td>\n",
       "      <td>1</td>\n",
       "      <td>2</td>\n",
       "      <td>NaN</td>\n",
       "      <td>3.0</td>\n",
       "      <td>1.0</td>\n",
       "      <td>1</td>\n",
       "      <td>1</td>\n",
       "      <td>...</td>\n",
       "      <td>NaN</td>\n",
       "      <td>NaN</td>\n",
       "      <td>NaN</td>\n",
       "      <td>NaN</td>\n",
       "      <td>0</td>\n",
       "      <td>0</td>\n",
       "      <td>0</td>\n",
       "      <td>0</td>\n",
       "      <td>NaN</td>\n",
       "      <td>2017</td>\n",
       "    </tr>\n",
       "    <tr>\n",
       "      <th>3</th>\n",
       "      <td>2019</td>\n",
       "      <td>1</td>\n",
       "      <td>1</td>\n",
       "      <td>1</td>\n",
       "      <td>2</td>\n",
       "      <td>NaN</td>\n",
       "      <td>3.0</td>\n",
       "      <td>1.0</td>\n",
       "      <td>1</td>\n",
       "      <td>1</td>\n",
       "      <td>...</td>\n",
       "      <td>NaN</td>\n",
       "      <td>NaN</td>\n",
       "      <td>NaN</td>\n",
       "      <td>NaN</td>\n",
       "      <td>1</td>\n",
       "      <td>0</td>\n",
       "      <td>0</td>\n",
       "      <td>0</td>\n",
       "      <td>NaN</td>\n",
       "      <td>2016</td>\n",
       "    </tr>\n",
       "    <tr>\n",
       "      <th>4</th>\n",
       "      <td>2019</td>\n",
       "      <td>1</td>\n",
       "      <td>1</td>\n",
       "      <td>1</td>\n",
       "      <td>2</td>\n",
       "      <td>NaN</td>\n",
       "      <td>3.0</td>\n",
       "      <td>1.0</td>\n",
       "      <td>1</td>\n",
       "      <td>1</td>\n",
       "      <td>...</td>\n",
       "      <td>NaN</td>\n",
       "      <td>NaN</td>\n",
       "      <td>NaN</td>\n",
       "      <td>NaN</td>\n",
       "      <td>1</td>\n",
       "      <td>0</td>\n",
       "      <td>0</td>\n",
       "      <td>0</td>\n",
       "      <td>NaN</td>\n",
       "      <td>2013</td>\n",
       "    </tr>\n",
       "  </tbody>\n",
       "</table>\n",
       "<p>5 rows × 105 columns</p>\n",
       "</div>"
      ],
      "text/plain": [
       "   NU_ANO_CENSO  CO_IES  TP_CATEGORIA_ADMINISTRATIVA  \\\n",
       "0          2019       1                            1   \n",
       "1          2019       1                            1   \n",
       "2          2019       1                            1   \n",
       "3          2019       1                            1   \n",
       "4          2019       1                            1   \n",
       "\n",
       "   TP_ORGANIZACAO_ACADEMICA  CO_CURSO  CO_CURSO_POLO  TP_TURNO  \\\n",
       "0                         1         1            NaN       3.0   \n",
       "1                         1         1            NaN       3.0   \n",
       "2                         1         2            NaN       3.0   \n",
       "3                         1         2            NaN       3.0   \n",
       "4                         1         2            NaN       3.0   \n",
       "\n",
       "   TP_GRAU_ACADEMICO  TP_MODALIDADE_ENSINO  TP_NIVEL_ACADEMICO  ...  \\\n",
       "0                1.0                     1                   1  ...   \n",
       "1                1.0                     1                   1  ...   \n",
       "2                1.0                     1                   1  ...   \n",
       "3                1.0                     1                   1  ...   \n",
       "4                1.0                     1                   1  ...   \n",
       "\n",
       "  TP_MOBILIDADE_ACADEMICA TP_MOBILIDADE_ACADEMICA_INTERN  CO_IES_DESTINO  \\\n",
       "0                     NaN                            NaN             NaN   \n",
       "1                     NaN                            NaN             NaN   \n",
       "2                     NaN                            NaN             NaN   \n",
       "3                     NaN                            NaN             NaN   \n",
       "4                     NaN                            NaN             NaN   \n",
       "\n",
       "   CO_PAIS_DESTINO  IN_MATRICULA  IN_CONCLUINTE  IN_INGRESSO_TOTAL  \\\n",
       "0              NaN             1              1                  0   \n",
       "1              NaN             1              0                  0   \n",
       "2              NaN             0              0                  0   \n",
       "3              NaN             1              0                  0   \n",
       "4              NaN             1              0                  0   \n",
       "\n",
       "   IN_INGRESSO_VAGA_NOVA  IN_INGRESSO_PROCESSO_SELETIVO  NU_ANO_INGRESSO  \n",
       "0                      0                            NaN             2013  \n",
       "1                      0                            NaN             2018  \n",
       "2                      0                            NaN             2017  \n",
       "3                      0                            NaN             2016  \n",
       "4                      0                            NaN             2013  \n",
       "\n",
       "[5 rows x 105 columns]"
      ]
     },
     "execution_count": 2,
     "metadata": {},
     "output_type": "execute_result"
    }
   ],
   "source": [
    "import pandas as pd\r\n",
    "import random\r\n",
    "import matplotlib.pyplot as plt \r\n",
    "import numpy as npnp\r\n",
    "\r\n",
    "p = 0.01\r\n",
    "\r\n",
    "dataframe = pd.read_csv(\r\n",
    "    'SUP_ALUNO_2019.csv',\r\n",
    "    encoding = \"ISO-8859-1\",\r\n",
    "    skiprows=lambda i: i > 0 and random.random() > p,\r\n",
    "    sep=\"|\"\r\n",
    ")\r\n",
    "\r\n",
    "dataframe.head()"
   ]
  },
  {
   "cell_type": "code",
   "execution_count": 3,
   "id": "11fe9306",
   "metadata": {},
   "outputs": [
    {
     "data": {
      "text/plain": [
       "(123418, 105)"
      ]
     },
     "execution_count": 3,
     "metadata": {},
     "output_type": "execute_result"
    }
   ],
   "source": [
    "dataframe.shape"
   ]
  },
  {
   "cell_type": "code",
   "execution_count": 4,
   "id": "81cc9ab7",
   "metadata": {},
   "outputs": [
    {
     "data": {
      "text/plain": [
       "array(['NU_ANO_CENSO', 'CO_IES', 'TP_CATEGORIA_ADMINISTRATIVA',\n",
       "       'TP_ORGANIZACAO_ACADEMICA', 'CO_CURSO', 'CO_CURSO_POLO',\n",
       "       'TP_TURNO', 'TP_GRAU_ACADEMICO', 'TP_MODALIDADE_ENSINO',\n",
       "       'TP_NIVEL_ACADEMICO', 'CO_CINE_ROTULO', 'ID_ALUNO',\n",
       "       'CO_ALUNO_CURSO', 'CO_ALUNO_CURSO_ORIGEM', 'TP_COR_RACA',\n",
       "       'TP_SEXO', 'NU_ANO_NASCIMENTO', 'NU_MES_NASCIMENTO',\n",
       "       'NU_DIA_NASCIMENTO', 'NU_IDADE', 'TP_NACIONALIDADE',\n",
       "       'CO_PAIS_ORIGEM', 'CO_UF_NASCIMENTO', 'CO_MUNICIPIO_NASCIMENTO',\n",
       "       'IN_DEFICIENCIA', 'IN_DEFICIENCIA_AUDITIVA',\n",
       "       'IN_DEFICIENCIA_FISICA', 'IN_DEFICIENCIA_INTELECTUAL',\n",
       "       'IN_DEFICIENCIA_MULTIPLA', 'IN_DEFICIENCIA_SURDEZ',\n",
       "       'IN_DEFICIENCIA_SURDOCEGUEIRA', 'IN_DEFICIENCIA_BAIXA_VISAO',\n",
       "       'IN_DEFICIENCIA_CEGUEIRA', 'IN_DEFICIENCIA_SUPERDOTACAO',\n",
       "       'IN_TGD_AUTISMO', 'IN_TGD_SINDROME_ASPERGER',\n",
       "       'IN_TGD_SINDROME_RETT', 'IN_TGD_TRANSTOR_DESINTEGRATIVO',\n",
       "       'TP_SITUACAO', 'QT_CARGA_HORARIA_TOTAL', 'QT_CARGA_HORARIA_INTEG',\n",
       "       'DT_INGRESSO_CURSO', 'IN_INGRESSO_VESTIBULAR', 'IN_INGRESSO_ENEM',\n",
       "       'IN_INGRESSO_AVALIACAO_SERIADA', 'IN_INGRESSO_SELECAO_SIMPLIFICA',\n",
       "       'IN_INGRESSO_OUTRO_TIPO_SELECAO', 'IN_INGRESSO_VAGA_REMANESC',\n",
       "       'IN_INGRESSO_VAGA_PROG_ESPECIAL', 'IN_INGRESSO_TRANSF_EXOFFICIO',\n",
       "       'IN_INGRESSO_DECISAO_JUDICIAL', 'IN_INGRESSO_CONVENIO_PECG',\n",
       "       'IN_INGRESSO_EGRESSO', 'IN_INGRESSO_OUTRA_FORMA',\n",
       "       'IN_RESERVA_VAGAS', 'IN_RESERVA_ETNICO', 'IN_RESERVA_DEFICIENCIA',\n",
       "       'IN_RESERVA_ENSINO_PUBLICO', 'IN_RESERVA_RENDA_FAMILIAR',\n",
       "       'IN_RESERVA_OUTRA', 'IN_FINANCIAMENTO_ESTUDANTIL',\n",
       "       'IN_FIN_REEMB_FIES', 'IN_FIN_REEMB_ESTADUAL',\n",
       "       'IN_FIN_REEMB_MUNICIPAL', 'IN_FIN_REEMB_PROG_IES',\n",
       "       'IN_FIN_REEMB_ENT_EXTERNA', 'IN_FIN_REEMB_OUTRA',\n",
       "       'IN_FIN_NAOREEMB_PROUNI_INTEGR', 'IN_FIN_NAOREEMB_PROUNI_PARCIAL',\n",
       "       'IN_FIN_NAOREEMB_ESTADUAL', 'IN_FIN_NAOREEMB_MUNICIPAL',\n",
       "       'IN_FIN_NAOREEMB_PROG_IES', 'IN_FIN_NAOREEMB_ENT_EXTERNA',\n",
       "       'IN_FIN_NAOREEMB_OUTRA', 'IN_APOIO_SOCIAL', 'IN_APOIO_ALIMENTACAO',\n",
       "       'IN_APOIO_BOLSA_PERMANENCIA', 'IN_APOIO_BOLSA_TRABALHO',\n",
       "       'IN_APOIO_MATERIAL_DIDATICO', 'IN_APOIO_MORADIA',\n",
       "       'IN_APOIO_TRANSPORTE', 'IN_ATIVIDADE_EXTRACURRICULAR',\n",
       "       'IN_COMPLEMENTAR_ESTAGIO', 'IN_COMPLEMENTAR_EXTENSAO',\n",
       "       'IN_COMPLEMENTAR_MONITORIA', 'IN_COMPLEMENTAR_PESQUISA',\n",
       "       'IN_BOLSA_ESTAGIO', 'IN_BOLSA_EXTENSAO', 'IN_BOLSA_MONITORIA',\n",
       "       'IN_BOLSA_PESQUISA', 'TP_ESCOLA_CONCLUSAO_ENS_MEDIO',\n",
       "       'IN_ALUNO_PARFOR', 'TP_SEMESTRE_CONCLUSAO',\n",
       "       'TP_SEMESTRE_REFERENCIA', 'IN_MOBILIDADE_ACADEMICA',\n",
       "       'TP_MOBILIDADE_ACADEMICA', 'TP_MOBILIDADE_ACADEMICA_INTERN',\n",
       "       'CO_IES_DESTINO', 'CO_PAIS_DESTINO', 'IN_MATRICULA',\n",
       "       'IN_CONCLUINTE', 'IN_INGRESSO_TOTAL', 'IN_INGRESSO_VAGA_NOVA',\n",
       "       'IN_INGRESSO_PROCESSO_SELETIVO', 'NU_ANO_INGRESSO'], dtype=object)"
      ]
     },
     "execution_count": 4,
     "metadata": {},
     "output_type": "execute_result"
    }
   ],
   "source": [
    "dataframe.columns.values"
   ]
  },
  {
   "cell_type": "code",
   "execution_count": 47,
   "id": "79bf8b4f",
   "metadata": {},
   "outputs": [],
   "source": [
    "colunasSelecionadas = ['TP_SEXO', 'TP_COR_RACA', 'NU_IDADE', 'TP_ESCOLA_CONCLUSAO_ENS_MEDIO', 'TP_CATEGORIA_ADMINISTRATIVA']"
   ]
  },
  {
   "cell_type": "code",
   "execution_count": 48,
   "id": "35623cc5-eb6c-47ba-94b9-e12659687520",
   "metadata": {},
   "outputs": [],
   "source": [
    "dadosSelecionados = dataframe.filter(items=colunasSelecionadas)"
   ]
  },
  {
   "cell_type": "code",
   "execution_count": 49,
   "id": "9d24a2f1-4408-4532-b141-701e9cc95b5f",
   "metadata": {},
   "outputs": [
    {
     "data": {
      "text/html": [
       "<div>\n",
       "<style scoped>\n",
       "    .dataframe tbody tr th:only-of-type {\n",
       "        vertical-align: middle;\n",
       "    }\n",
       "\n",
       "    .dataframe tbody tr th {\n",
       "        vertical-align: top;\n",
       "    }\n",
       "\n",
       "    .dataframe thead th {\n",
       "        text-align: right;\n",
       "    }\n",
       "</style>\n",
       "<table border=\"1\" class=\"dataframe\">\n",
       "  <thead>\n",
       "    <tr style=\"text-align: right;\">\n",
       "      <th></th>\n",
       "      <th>TP_SEXO</th>\n",
       "      <th>TP_COR_RACA</th>\n",
       "      <th>NU_IDADE</th>\n",
       "      <th>TP_ESCOLA_CONCLUSAO_ENS_MEDIO</th>\n",
       "      <th>TP_CATEGORIA_ADMINISTRATIVA</th>\n",
       "    </tr>\n",
       "  </thead>\n",
       "  <tbody>\n",
       "    <tr>\n",
       "      <th>0</th>\n",
       "      <td>2</td>\n",
       "      <td>3</td>\n",
       "      <td>42</td>\n",
       "      <td>1</td>\n",
       "      <td>1</td>\n",
       "    </tr>\n",
       "    <tr>\n",
       "      <th>1</th>\n",
       "      <td>2</td>\n",
       "      <td>3</td>\n",
       "      <td>19</td>\n",
       "      <td>2</td>\n",
       "      <td>1</td>\n",
       "    </tr>\n",
       "    <tr>\n",
       "      <th>2</th>\n",
       "      <td>2</td>\n",
       "      <td>3</td>\n",
       "      <td>30</td>\n",
       "      <td>1</td>\n",
       "      <td>1</td>\n",
       "    </tr>\n",
       "    <tr>\n",
       "      <th>3</th>\n",
       "      <td>2</td>\n",
       "      <td>1</td>\n",
       "      <td>31</td>\n",
       "      <td>1</td>\n",
       "      <td>1</td>\n",
       "    </tr>\n",
       "    <tr>\n",
       "      <th>4</th>\n",
       "      <td>1</td>\n",
       "      <td>3</td>\n",
       "      <td>30</td>\n",
       "      <td>1</td>\n",
       "      <td>1</td>\n",
       "    </tr>\n",
       "  </tbody>\n",
       "</table>\n",
       "</div>"
      ],
      "text/plain": [
       "   TP_SEXO  TP_COR_RACA  NU_IDADE  TP_ESCOLA_CONCLUSAO_ENS_MEDIO  \\\n",
       "0        2            3        42                              1   \n",
       "1        2            3        19                              2   \n",
       "2        2            3        30                              1   \n",
       "3        2            1        31                              1   \n",
       "4        1            3        30                              1   \n",
       "\n",
       "   TP_CATEGORIA_ADMINISTRATIVA  \n",
       "0                            1  \n",
       "1                            1  \n",
       "2                            1  \n",
       "3                            1  \n",
       "4                            1  "
      ]
     },
     "execution_count": 49,
     "metadata": {},
     "output_type": "execute_result"
    }
   ],
   "source": [
    "dadosSelecionados.head()"
   ]
  },
  {
   "cell_type": "code",
   "execution_count": 50,
   "id": "e6f94b24-b109-42c7-ace6-0fee54bb9c77",
   "metadata": {},
   "outputs": [
    {
     "data": {
      "text/plain": [
       "(123418, 5)"
      ]
     },
     "execution_count": 50,
     "metadata": {},
     "output_type": "execute_result"
    }
   ],
   "source": [
    "dadosSelecionados.shape"
   ]
  },
  {
   "cell_type": "markdown",
   "id": "f7f94a6d-4eb5-4a5c-b4ff-e43542f75245",
   "metadata": {
    "tags": []
   },
   "source": [
    "## ANÁLISE DA RAÇA DO CANDIDATO"
   ]
  },
  {
   "cell_type": "code",
   "execution_count": 36,
   "id": "5f84dd83-a5a1-4604-955c-4db6772c2ea7",
   "metadata": {},
   "outputs": [],
   "source": [
    "colunaRaca = dadosSelecionados['TP_COR_RACA']"
   ]
  },
  {
   "cell_type": "code",
   "execution_count": 37,
   "id": "f6ac411f-dfbe-4ea6-ba9e-2b6bd54a2880",
   "metadata": {},
   "outputs": [
    {
     "data": {
      "text/plain": [
       "0         3\n",
       "1         3\n",
       "2         3\n",
       "3         1\n",
       "4         3\n",
       "         ..\n",
       "123413    3\n",
       "123414    3\n",
       "123415    1\n",
       "123416    1\n",
       "123417    1\n",
       "Name: TP_COR_RACA, Length: 123418, dtype: int64"
      ]
     },
     "execution_count": 37,
     "metadata": {},
     "output_type": "execute_result"
    }
   ],
   "source": [
    "colunaRaca"
   ]
  },
  {
   "cell_type": "markdown",
   "id": "791dfd7f-988d-4c01-ad77-a76379b16e95",
   "metadata": {},
   "source": [
    "---\n",
    "- 0. Aluno não quis declarar cor/raça  \n",
    "- 1. Branca\n",
    "- 2. Preta\n",
    "- 3. Parda\n",
    "- 4. Amarela\n",
    "- 5. Indígena\n",
    "- 9. Não dispõe da informação (Não resposta)\n",
    "---"
   ]
  },
  {
   "cell_type": "code",
   "execution_count": 38,
   "id": "83334274-6583-4cb4-bf41-27d8e38074df",
   "metadata": {},
   "outputs": [
    {
     "data": {
      "text/plain": [
       "0    22387\n",
       "1    51766\n",
       "2     8789\n",
       "3    37440\n",
       "4     2015\n",
       "5      803\n",
       "9      218\n",
       "Name: TP_COR_RACA, dtype: int64"
      ]
     },
     "execution_count": 38,
     "metadata": {},
     "output_type": "execute_result"
    }
   ],
   "source": [
    "colunaRaca.value_counts().sort_index()"
   ]
  },
  {
   "cell_type": "code",
   "execution_count": 39,
   "id": "28b56e8e-9b73-452c-b6bf-3f82dea8d325",
   "metadata": {},
   "outputs": [
    {
     "data": {
      "text/plain": [
       "<AxesSubplot:>"
      ]
     },
     "execution_count": 39,
     "metadata": {},
     "output_type": "execute_result"
    },
    {
     "data": {
      "image/png": "[encoded data removed]",
      "text/plain": [
       "<Figure size 432x288 with 1 Axes>"
      ]
     },
     "metadata": {
      "needs_background": "light"
     },
     "output_type": "display_data"
    }
   ],
   "source": [
    "colunaRaca.hist(bins=20)"
   ]
  },
  {
   "cell_type": "code",
   "execution_count": 40,
   "id": "2c34d673-de7c-475d-a938-acbce9031534",
   "metadata": {},
   "outputs": [
    {
     "data": {
      "text/plain": [
       "[41.943638691276796,\n",
       " 30.335931549692912,\n",
       " 18.139169327002545,\n",
       " 7.121327521107132,\n",
       " 1.6326629827091672,\n",
       " 0.6506344293376979,\n",
       " 0.17663549887374613]"
      ]
     },
     "execution_count": 40,
     "metadata": {},
     "output_type": "execute_result"
    }
   ],
   "source": [
    "distInRaca = colunaRaca.value_counts()\n",
    "percentInRaca = [100*x/distInRaca.sum() for x in distInRaca]\n",
    "percentInRaca"
   ]
  },
  {
   "cell_type": "markdown",
   "id": "ac0afbac-3027-46e2-8d30-42d2305188b4",
   "metadata": {},
   "source": [
    "---\n",
    "## ANÁLISE TIPO DE ESCOLA DE ENSINO MÉDIO"
   ]
  },
  {
   "cell_type": "code",
   "execution_count": 42,
   "id": "0308939c-4f72-4599-87bb-aba38e87f871",
   "metadata": {},
   "outputs": [
    {
     "data": {
      "text/plain": [
       "0         1\n",
       "1         2\n",
       "2         1\n",
       "3         1\n",
       "4         1\n",
       "         ..\n",
       "123413    1\n",
       "123414    1\n",
       "123415    1\n",
       "123416    1\n",
       "123417    1\n",
       "Name: TP_ESCOLA_CONCLUSAO_ENS_MEDIO, Length: 123418, dtype: int64"
      ]
     },
     "execution_count": 42,
     "metadata": {},
     "output_type": "execute_result"
    }
   ],
   "source": [
    "colunaEnsinoMedio = dadosSelecionados['TP_ESCOLA_CONCLUSAO_ENS_MEDIO']\n",
    "colunaEnsinoMedio"
   ]
  },
  {
   "cell_type": "code",
   "execution_count": 43,
   "id": "ceb0001e-a808-4638-ab0f-0eee78711a92",
   "metadata": {},
   "outputs": [
    {
     "data": {
      "text/plain": [
       "1    88205\n",
       "2    34647\n",
       "9      566\n",
       "Name: TP_ESCOLA_CONCLUSAO_ENS_MEDIO, dtype: int64"
      ]
     },
     "execution_count": 43,
     "metadata": {},
     "output_type": "execute_result"
    }
   ],
   "source": [
    "colunaEnsinoMedio.value_counts().sort_index()"
   ]
  },
  {
   "cell_type": "markdown",
   "id": "9ddf8506-a535-436b-bcc3-88116a26188a",
   "metadata": {},
   "source": [
    "---\n",
    "- 1. Pública\n",
    "- 2. Privada                                                 \n",
    "- 9. Não dispõe da informação (Não resposta)\n",
    "---"
   ]
  },
  {
   "cell_type": "code",
   "execution_count": 46,
   "id": "0176b627-23a9-469b-be8f-79ceb8c2f0a2",
   "metadata": {},
   "outputs": [
    {
     "data": {
      "text/plain": [
       "<AxesSubplot:>"
      ]
     },
     "execution_count": 46,
     "metadata": {},
     "output_type": "execute_result"
    },
    {
     "data": {
      "image/png": "[encoded data removed]",
      "text/plain": [
       "<Figure size 432x288 with 1 Axes>"
      ]
     },
     "metadata": {
      "needs_background": "light"
     },
     "output_type": "display_data"
    }
   ],
   "source": [
    "colunaEnsinoMedio.hist(bins=20)"
   ]
  },
  {
   "cell_type": "code",
   "execution_count": 51,
   "id": "c8ade3e8-da83-4af9-8632-3b93f060f8f6",
   "metadata": {},
   "outputs": [
    {
     "data": {
      "text/plain": [
       "[71.46850540439806, 28.07289050219579, 0.4586040934061482]"
      ]
     },
     "execution_count": 51,
     "metadata": {},
     "output_type": "execute_result"
    }
   ],
   "source": [
    "distInEM = colunaEnsinoMedio.value_counts()\n",
    "percentInEM = [100*x/distInEM.sum() for x in distInEM]\n",
    "percentInEM"
   ]
  },
  {
   "cell_type": "markdown",
   "id": "f94f9a97-5397-410c-9b20-34c56bd054b8",
   "metadata": {},
   "source": [
    "## ANÁLISE DO TIPO DE INSTITUIÇÃO DE ENSINO SUPERIOR"
   ]
  },
  {
   "cell_type": "code",
   "execution_count": 52,
   "id": "ba2c08c5-84d5-41d4-8b9e-a25ce9c42a96",
   "metadata": {},
   "outputs": [
    {
     "data": {
      "text/plain": [
       "0         1\n",
       "1         1\n",
       "2         1\n",
       "3         1\n",
       "4         1\n",
       "         ..\n",
       "123413    2\n",
       "123414    2\n",
       "123415    2\n",
       "123416    3\n",
       "123417    2\n",
       "Name: TP_CATEGORIA_ADMINISTRATIVA, Length: 123418, dtype: int64"
      ]
     },
     "execution_count": 52,
     "metadata": {},
     "output_type": "execute_result"
    }
   ],
   "source": [
    "colunaTipoIES = dadosSelecionados['TP_CATEGORIA_ADMINISTRATIVA']\n",
    "colunaTipoIES"
   ]
  },
  {
   "cell_type": "code",
   "execution_count": 53,
   "id": "8c4170cf-4fd9-4b06-b0c4-5032cdde3364",
   "metadata": {},
   "outputs": [
    {
     "data": {
      "text/plain": [
       "1    16719\n",
       "2     8211\n",
       "3      786\n",
       "4    68041\n",
       "5    29340\n",
       "7      321\n",
       "Name: TP_CATEGORIA_ADMINISTRATIVA, dtype: int64"
      ]
     },
     "execution_count": 53,
     "metadata": {},
     "output_type": "execute_result"
    }
   ],
   "source": [
    "colunaTipoIES.value_counts().sort_index()"
   ]
  },
  {
   "cell_type": "markdown",
   "id": "46efa0e5-68de-4c04-b90b-ad39732b2a4a",
   "metadata": {},
   "source": [
    "---\n",
    "- 1. Pública Federal\n",
    "- 2. Pública Estadual\n",
    "- 3. Pública Municipal\n",
    "- 4. Privada com fins lucrativos\n",
    "- 5. Privada sem fins lucrativos\n",
    "- 6. Privada - Particular em sentido estrito\n",
    "- 7. Especial\n",
    "- 8. Privada comunitária\n",
    "- 9. Privada confessional\n",
    "---"
   ]
  },
  {
   "cell_type": "code",
   "execution_count": 54,
   "id": "9139ab57-c748-4a86-8aef-2b6acd041db0",
   "metadata": {},
   "outputs": [
    {
     "data": {
      "text/plain": [
       "<AxesSubplot:>"
      ]
     },
     "execution_count": 54,
     "metadata": {},
     "output_type": "execute_result"
    },
    {
     "data": {
      "image/png": "[encoded data removed]",
      "text/plain": [
       "<Figure size 432x288 with 1 Axes>"
      ]
     },
     "metadata": {
      "needs_background": "light"
     },
     "output_type": "display_data"
    }
   ],
   "source": [
    "colunaTipoIES.hist(bins=20)"
   ]
  },
  {
   "cell_type": "code",
   "execution_count": 55,
   "id": "e9dbee77-94c5-43b5-9b99-581eee3b8304",
   "metadata": {},
   "outputs": [
    {
     "data": {
      "text/plain": [
       "[55.130532013158536,\n",
       " 23.77286943557666,\n",
       " 13.546646356285144,\n",
       " 6.653000372717107,\n",
       " 0.6368601014438736,\n",
       " 0.2600917208186812]"
      ]
     },
     "execution_count": 55,
     "metadata": {},
     "output_type": "execute_result"
    }
   ],
   "source": [
    "distInIES = colunaTipoIES.value_counts()\n",
    "percentInIES = [100*x/distInIES.sum() for x in distInIES]\n",
    "percentInIES"
   ]
  },
  {
   "cell_type": "markdown",
   "id": "b1929246-3491-46f6-b137-1ba88dd0c51a",
   "metadata": {},
   "source": [
    "## TIPO ENSINO MÉDIO x TIPO DE IES"
   ]
  },
  {
   "cell_type": "code",
   "execution_count": 60,
   "id": "48345338-80a6-48f4-9187-e37c4544b958",
   "metadata": {},
   "outputs": [
    {
     "data": {
      "text/html": [
       "<div>\n",
       "<style scoped>\n",
       "    .dataframe tbody tr th:only-of-type {\n",
       "        vertical-align: middle;\n",
       "    }\n",
       "\n",
       "    .dataframe tbody tr th {\n",
       "        vertical-align: top;\n",
       "    }\n",
       "\n",
       "    .dataframe thead th {\n",
       "        text-align: right;\n",
       "    }\n",
       "</style>\n",
       "<table border=\"1\" class=\"dataframe\">\n",
       "  <thead>\n",
       "    <tr style=\"text-align: right;\">\n",
       "      <th></th>\n",
       "      <th>TP_CATEGORIA_ADMINISTRATIVA</th>\n",
       "      <th>TP_ESCOLA_CONCLUSAO_ENS_MEDIO</th>\n",
       "    </tr>\n",
       "  </thead>\n",
       "  <tbody>\n",
       "    <tr>\n",
       "      <th>0</th>\n",
       "      <td>1</td>\n",
       "      <td>1</td>\n",
       "    </tr>\n",
       "    <tr>\n",
       "      <th>1</th>\n",
       "      <td>1</td>\n",
       "      <td>2</td>\n",
       "    </tr>\n",
       "    <tr>\n",
       "      <th>2</th>\n",
       "      <td>1</td>\n",
       "      <td>1</td>\n",
       "    </tr>\n",
       "    <tr>\n",
       "      <th>3</th>\n",
       "      <td>1</td>\n",
       "      <td>1</td>\n",
       "    </tr>\n",
       "    <tr>\n",
       "      <th>4</th>\n",
       "      <td>1</td>\n",
       "      <td>1</td>\n",
       "    </tr>\n",
       "  </tbody>\n",
       "</table>\n",
       "</div>"
      ],
      "text/plain": [
       "   TP_CATEGORIA_ADMINISTRATIVA  TP_ESCOLA_CONCLUSAO_ENS_MEDIO\n",
       "0                            1                              1\n",
       "1                            1                              2\n",
       "2                            1                              1\n",
       "3                            1                              1\n",
       "4                            1                              1"
      ]
     },
     "execution_count": 60,
     "metadata": {},
     "output_type": "execute_result"
    }
   ],
   "source": [
    "colunasAnalise = ['TP_CATEGORIA_ADMINISTRATIVA', 'TP_ESCOLA_CONCLUSAO_ENS_MEDIO']\n",
    "microdadosEMeIES = dataframe.filter(items=colunasAnalise)\n",
    "microdadosEMeIES.head()"
   ]
  },
  {
   "cell_type": "code",
   "execution_count": 62,
   "id": "2044c849-5e12-4f85-9d9b-b34ee8444591",
   "metadata": {},
   "outputs": [
    {
     "data": {
      "text/html": [
       "<div>\n",
       "<style scoped>\n",
       "    .dataframe tbody tr th:only-of-type {\n",
       "        vertical-align: middle;\n",
       "    }\n",
       "\n",
       "    .dataframe tbody tr th {\n",
       "        vertical-align: top;\n",
       "    }\n",
       "\n",
       "    .dataframe thead th {\n",
       "        text-align: right;\n",
       "    }\n",
       "</style>\n",
       "<table border=\"1\" class=\"dataframe\">\n",
       "  <thead>\n",
       "    <tr style=\"text-align: right;\">\n",
       "      <th></th>\n",
       "      <th>TP_CATEGORIA_ADMINISTRATIVA</th>\n",
       "      <th>TP_ESCOLA_CONCLUSAO_ENS_MEDIO</th>\n",
       "    </tr>\n",
       "  </thead>\n",
       "  <tbody>\n",
       "    <tr>\n",
       "      <th>0</th>\n",
       "      <td>1</td>\n",
       "      <td>1</td>\n",
       "    </tr>\n",
       "    <tr>\n",
       "      <th>1</th>\n",
       "      <td>1</td>\n",
       "      <td>2</td>\n",
       "    </tr>\n",
       "    <tr>\n",
       "      <th>2</th>\n",
       "      <td>1</td>\n",
       "      <td>1</td>\n",
       "    </tr>\n",
       "    <tr>\n",
       "      <th>3</th>\n",
       "      <td>1</td>\n",
       "      <td>1</td>\n",
       "    </tr>\n",
       "    <tr>\n",
       "      <th>4</th>\n",
       "      <td>1</td>\n",
       "      <td>1</td>\n",
       "    </tr>\n",
       "  </tbody>\n",
       "</table>\n",
       "</div>"
      ],
      "text/plain": [
       "   TP_CATEGORIA_ADMINISTRATIVA  TP_ESCOLA_CONCLUSAO_ENS_MEDIO\n",
       "0                            1                              1\n",
       "1                            1                              2\n",
       "2                            1                              1\n",
       "3                            1                              1\n",
       "4                            1                              1"
      ]
     },
     "execution_count": 62,
     "metadata": {},
     "output_type": "execute_result"
    }
   ],
   "source": [
    "microdadosEMeIES = microdadosEMeIES.dropna()\n",
    "microdadosEMeIES.head()"
   ]
  },
  {
   "cell_type": "code",
   "execution_count": 63,
   "id": "e1d75898-c577-4eb0-89ee-f51a5d56a36a",
   "metadata": {},
   "outputs": [
    {
     "data": {
      "text/plain": [
       "(123418, 2)"
      ]
     },
     "execution_count": 63,
     "metadata": {},
     "output_type": "execute_result"
    }
   ],
   "source": [
    "microdadosEMeIES.shape"
   ]
  },
  {
   "cell_type": "code",
   "execution_count": 64,
   "id": "001e2718-f925-446b-bdab-97d175b901cc",
   "metadata": {},
   "outputs": [
    {
     "data": {
      "text/html": [
       "<div>\n",
       "<style scoped>\n",
       "    .dataframe tbody tr th:only-of-type {\n",
       "        vertical-align: middle;\n",
       "    }\n",
       "\n",
       "    .dataframe tbody tr th {\n",
       "        vertical-align: top;\n",
       "    }\n",
       "\n",
       "    .dataframe thead th {\n",
       "        text-align: right;\n",
       "    }\n",
       "</style>\n",
       "<table border=\"1\" class=\"dataframe\">\n",
       "  <thead>\n",
       "    <tr style=\"text-align: right;\">\n",
       "      <th></th>\n",
       "      <th>TP_ESCOLA_CONCLUSAO_ENS_MEDIO</th>\n",
       "    </tr>\n",
       "    <tr>\n",
       "      <th>TP_CATEGORIA_ADMINISTRATIVA</th>\n",
       "      <th></th>\n",
       "    </tr>\n",
       "  </thead>\n",
       "  <tbody>\n",
       "    <tr>\n",
       "      <th>1</th>\n",
       "      <td>16719</td>\n",
       "    </tr>\n",
       "    <tr>\n",
       "      <th>2</th>\n",
       "      <td>8211</td>\n",
       "    </tr>\n",
       "    <tr>\n",
       "      <th>3</th>\n",
       "      <td>786</td>\n",
       "    </tr>\n",
       "    <tr>\n",
       "      <th>4</th>\n",
       "      <td>68041</td>\n",
       "    </tr>\n",
       "    <tr>\n",
       "      <th>5</th>\n",
       "      <td>29340</td>\n",
       "    </tr>\n",
       "    <tr>\n",
       "      <th>7</th>\n",
       "      <td>321</td>\n",
       "    </tr>\n",
       "  </tbody>\n",
       "</table>\n",
       "</div>"
      ],
      "text/plain": [
       "                             TP_ESCOLA_CONCLUSAO_ENS_MEDIO\n",
       "TP_CATEGORIA_ADMINISTRATIVA                               \n",
       "1                                                    16719\n",
       "2                                                     8211\n",
       "3                                                      786\n",
       "4                                                    68041\n",
       "5                                                    29340\n",
       "7                                                      321"
      ]
     },
     "execution_count": 64,
     "metadata": {},
     "output_type": "execute_result"
    }
   ],
   "source": [
    "microdadosEMeIES.groupby('TP_CATEGORIA_ADMINISTRATIVA').count()"
   ]
  },
  {
   "cell_type": "code",
   "execution_count": null,
   "id": "ae0f8afc-77e2-41ac-94af-8535f4e7ee86",
   "metadata": {},
   "outputs": [],
   "source": []
  }
 ],
 "metadata": {
  "interpreter": {
   "hash": "b306c34089f8f4bbb06bb4955b8273d6e374265608e0c71e2b137dde297a82da"
  },
  "kernelspec": {
   "display_name": "Python 3 (ipykernel)",
   "language": "python",
   "name": "python3"
  },
  "language_info": {
   "codemirror_mode": {
    "name": "ipython",
    "version": 3
   },
   "file_extension": ".py",
   "mimetype": "text/x-python",
   "name": "python",
   "nbconvert_exporter": "python",
   "pygments_lexer": "ipython3",
   "version": "3.9.6"
  }
 },
 "nbformat": 4,
 "nbformat_minor": 5
}
