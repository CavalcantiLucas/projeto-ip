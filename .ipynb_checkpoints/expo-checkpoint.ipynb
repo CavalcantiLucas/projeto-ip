{
 "cells": [
  {
   "cell_type": "code",
   "execution_count": 1,
   "metadata": {},
   "outputs": [
    {
     "data": {
      "text/html": [
       "<div>\n",
       "<style scoped>\n",
       "    .dataframe tbody tr th:only-of-type {\n",
       "        vertical-align: middle;\n",
       "    }\n",
       "\n",
       "    .dataframe tbody tr th {\n",
       "        vertical-align: top;\n",
       "    }\n",
       "\n",
       "    .dataframe thead th {\n",
       "        text-align: right;\n",
       "    }\n",
       "</style>\n",
       "<table border=\"1\" class=\"dataframe\">\n",
       "  <thead>\n",
       "    <tr style=\"text-align: right;\">\n",
       "      <th></th>\n",
       "      <th>NU_ANO_CENSO</th>\n",
       "      <th>CO_IES</th>\n",
       "      <th>TP_CATEGORIA_ADMINISTRATIVA</th>\n",
       "      <th>TP_ORGANIZACAO_ACADEMICA</th>\n",
       "      <th>CO_CURSO</th>\n",
       "      <th>CO_CURSO_POLO</th>\n",
       "      <th>TP_TURNO</th>\n",
       "      <th>TP_GRAU_ACADEMICO</th>\n",
       "      <th>TP_MODALIDADE_ENSINO</th>\n",
       "      <th>TP_NIVEL_ACADEMICO</th>\n",
       "      <th>...</th>\n",
       "      <th>TP_MOBILIDADE_ACADEMICA</th>\n",
       "      <th>TP_MOBILIDADE_ACADEMICA_INTERN</th>\n",
       "      <th>CO_IES_DESTINO</th>\n",
       "      <th>CO_PAIS_DESTINO</th>\n",
       "      <th>IN_MATRICULA</th>\n",
       "      <th>IN_CONCLUINTE</th>\n",
       "      <th>IN_INGRESSO_TOTAL</th>\n",
       "      <th>IN_INGRESSO_VAGA_NOVA</th>\n",
       "      <th>IN_INGRESSO_PROCESSO_SELETIVO</th>\n",
       "      <th>NU_ANO_INGRESSO</th>\n",
       "    </tr>\n",
       "  </thead>\n",
       "  <tbody>\n",
       "    <tr>\n",
       "      <th>0</th>\n",
       "      <td>2019</td>\n",
       "      <td>1</td>\n",
       "      <td>1</td>\n",
       "      <td>1</td>\n",
       "      <td>1</td>\n",
       "      <td>NaN</td>\n",
       "      <td>3.0</td>\n",
       "      <td>1.0</td>\n",
       "      <td>1</td>\n",
       "      <td>1</td>\n",
       "      <td>...</td>\n",
       "      <td>NaN</td>\n",
       "      <td>NaN</td>\n",
       "      <td>NaN</td>\n",
       "      <td>NaN</td>\n",
       "      <td>1</td>\n",
       "      <td>1</td>\n",
       "      <td>0</td>\n",
       "      <td>0</td>\n",
       "      <td>NaN</td>\n",
       "      <td>2015</td>\n",
       "    </tr>\n",
       "    <tr>\n",
       "      <th>1</th>\n",
       "      <td>2019</td>\n",
       "      <td>1</td>\n",
       "      <td>1</td>\n",
       "      <td>1</td>\n",
       "      <td>1</td>\n",
       "      <td>NaN</td>\n",
       "      <td>1.0</td>\n",
       "      <td>1.0</td>\n",
       "      <td>1</td>\n",
       "      <td>1</td>\n",
       "      <td>...</td>\n",
       "      <td>NaN</td>\n",
       "      <td>NaN</td>\n",
       "      <td>NaN</td>\n",
       "      <td>NaN</td>\n",
       "      <td>1</td>\n",
       "      <td>0</td>\n",
       "      <td>1</td>\n",
       "      <td>1</td>\n",
       "      <td>NaN</td>\n",
       "      <td>2019</td>\n",
       "    </tr>\n",
       "    <tr>\n",
       "      <th>2</th>\n",
       "      <td>2019</td>\n",
       "      <td>1</td>\n",
       "      <td>1</td>\n",
       "      <td>1</td>\n",
       "      <td>1</td>\n",
       "      <td>NaN</td>\n",
       "      <td>1.0</td>\n",
       "      <td>1.0</td>\n",
       "      <td>1</td>\n",
       "      <td>1</td>\n",
       "      <td>...</td>\n",
       "      <td>NaN</td>\n",
       "      <td>NaN</td>\n",
       "      <td>NaN</td>\n",
       "      <td>NaN</td>\n",
       "      <td>1</td>\n",
       "      <td>0</td>\n",
       "      <td>1</td>\n",
       "      <td>1</td>\n",
       "      <td>NaN</td>\n",
       "      <td>2019</td>\n",
       "    </tr>\n",
       "    <tr>\n",
       "      <th>3</th>\n",
       "      <td>2019</td>\n",
       "      <td>1</td>\n",
       "      <td>1</td>\n",
       "      <td>1</td>\n",
       "      <td>2</td>\n",
       "      <td>NaN</td>\n",
       "      <td>3.0</td>\n",
       "      <td>1.0</td>\n",
       "      <td>1</td>\n",
       "      <td>1</td>\n",
       "      <td>...</td>\n",
       "      <td>NaN</td>\n",
       "      <td>NaN</td>\n",
       "      <td>NaN</td>\n",
       "      <td>NaN</td>\n",
       "      <td>0</td>\n",
       "      <td>0</td>\n",
       "      <td>0</td>\n",
       "      <td>0</td>\n",
       "      <td>NaN</td>\n",
       "      <td>2015</td>\n",
       "    </tr>\n",
       "    <tr>\n",
       "      <th>4</th>\n",
       "      <td>2019</td>\n",
       "      <td>1</td>\n",
       "      <td>1</td>\n",
       "      <td>1</td>\n",
       "      <td>2</td>\n",
       "      <td>NaN</td>\n",
       "      <td>3.0</td>\n",
       "      <td>1.0</td>\n",
       "      <td>1</td>\n",
       "      <td>1</td>\n",
       "      <td>...</td>\n",
       "      <td>NaN</td>\n",
       "      <td>NaN</td>\n",
       "      <td>NaN</td>\n",
       "      <td>NaN</td>\n",
       "      <td>0</td>\n",
       "      <td>0</td>\n",
       "      <td>0</td>\n",
       "      <td>0</td>\n",
       "      <td>NaN</td>\n",
       "      <td>2016</td>\n",
       "    </tr>\n",
       "  </tbody>\n",
       "</table>\n",
       "<p>5 rows × 105 columns</p>\n",
       "</div>"
      ],
      "text/plain": [
       "   NU_ANO_CENSO  CO_IES  TP_CATEGORIA_ADMINISTRATIVA  \\\n",
       "0          2019       1                            1   \n",
       "1          2019       1                            1   \n",
       "2          2019       1                            1   \n",
       "3          2019       1                            1   \n",
       "4          2019       1                            1   \n",
       "\n",
       "   TP_ORGANIZACAO_ACADEMICA  CO_CURSO  CO_CURSO_POLO  TP_TURNO  \\\n",
       "0                         1         1            NaN       3.0   \n",
       "1                         1         1            NaN       1.0   \n",
       "2                         1         1            NaN       1.0   \n",
       "3                         1         2            NaN       3.0   \n",
       "4                         1         2            NaN       3.0   \n",
       "\n",
       "   TP_GRAU_ACADEMICO  TP_MODALIDADE_ENSINO  TP_NIVEL_ACADEMICO  ...  \\\n",
       "0                1.0                     1                   1  ...   \n",
       "1                1.0                     1                   1  ...   \n",
       "2                1.0                     1                   1  ...   \n",
       "3                1.0                     1                   1  ...   \n",
       "4                1.0                     1                   1  ...   \n",
       "\n",
       "  TP_MOBILIDADE_ACADEMICA TP_MOBILIDADE_ACADEMICA_INTERN  CO_IES_DESTINO  \\\n",
       "0                     NaN                            NaN             NaN   \n",
       "1                     NaN                            NaN             NaN   \n",
       "2                     NaN                            NaN             NaN   \n",
       "3                     NaN                            NaN             NaN   \n",
       "4                     NaN                            NaN             NaN   \n",
       "\n",
       "   CO_PAIS_DESTINO  IN_MATRICULA  IN_CONCLUINTE  IN_INGRESSO_TOTAL  \\\n",
       "0              NaN             1              1                  0   \n",
       "1              NaN             1              0                  1   \n",
       "2              NaN             1              0                  1   \n",
       "3              NaN             0              0                  0   \n",
       "4              NaN             0              0                  0   \n",
       "\n",
       "   IN_INGRESSO_VAGA_NOVA  IN_INGRESSO_PROCESSO_SELETIVO  NU_ANO_INGRESSO  \n",
       "0                      0                            NaN             2015  \n",
       "1                      1                            NaN             2019  \n",
       "2                      1                            NaN             2019  \n",
       "3                      0                            NaN             2015  \n",
       "4                      0                            NaN             2016  \n",
       "\n",
       "[5 rows x 105 columns]"
      ]
     },
     "execution_count": 1,
     "metadata": {},
     "output_type": "execute_result"
    }
   ],
   "source": [
    "import pandas as pd\n",
    "import random\n",
    "import matplotlib.pyplot as plt \n",
    "import numpy as np\n",
    "import seaborn as sns\n",
    "\n",
    "p = 0.01\n",
    "\n",
    "df = pd.read_csv(\n",
    "    'SUP_ALUNO_2019.csv',\n",
    "    encoding = \"ISO-8859-1\",\n",
    "    skiprows=lambda i: i > 0 and random.random() > p,\n",
    "    sep=\"|\"\n",
    ")\n",
    "\n",
    "df.head()"
   ]
  },
  {
   "cell_type": "markdown",
   "metadata": {},
   "source": [
    "* ## Utilizando 1% da base de dados do censo universitário e chamando a função shape do data frame temos uma tupla que indica a quantidade de alunos dentro da amostra (123978) e a quantidade de chaves que podemos acessar (105) "
   ]
  },
  {
   "cell_type": "code",
   "execution_count": 2,
   "metadata": {},
   "outputs": [
    {
     "data": {
      "text/plain": [
       "(123671, 105)"
      ]
     },
     "execution_count": 2,
     "metadata": {},
     "output_type": "execute_result"
    }
   ],
   "source": [
    "df.shape"
   ]
  },
  {
   "cell_type": "code",
   "execution_count": 3,
   "metadata": {},
   "outputs": [
    {
     "data": {
      "image/png": "[encoded data removed]",
      "text/plain": [
       "<Figure size 432x288 with 1 Axes>"
      ]
     },
     "metadata": {},
     "output_type": "display_data"
    }
   ],
   "source": [
    "womens = df.loc[df['TP_SEXO'] == 1].count()[0] # Localizando as mulheres no dataframe na coluna TP_SEXO, [0] serve para retornar o valor da tabela\n",
    "men = df.loc[df['TP_SEXO'] == 2].count()[0]\n",
    "\n",
    "labels = ['Mulheres', 'Homens']\n",
    "values = [womens, men]\n",
    "\n",
    "fig1, ax1 = plt.subplots() # Retorna uma tupla(Figure, Axes)\n",
    "\n",
    "ax1.pie(values, labels=labels, autopct='%1.1f%%', shadow=False, startangle=90) # Formatação do gráfico\n",
    "\n",
    "ax1.axis('equal') # Deixar a forma redondinha\n",
    "plt.show()\n"
   ]
  },
  {
   "cell_type": "markdown",
   "metadata": {},
   "source": [
    "### A partir dessa visualização percebemos a distribuição entre homens e mulheres dentro do censo universitário de 2019 "
   ]
  },
  {
   "cell_type": "markdown",
   "metadata": {},
   "source": [
    "---\n",
    "## Distribuição da idade dos alunos das Instituições de Ensino Superior"
   ]
  },
  {
   "cell_type": "markdown",
   "metadata": {},
   "source": [
    "##### A seguir, é feita uma curva de densidade que mostra a distribuição da idade dos alunos das IES."
   ]
  },
  {
   "cell_type": "code",
   "execution_count": 22,
   "metadata": {},
   "outputs": [
    {
     "data": {
      "image/png": "[encoded data removed]",
      "text/plain": [
       "<Figure size 432x288 with 1 Axes>"
      ]
     },
     "metadata": {},
     "output_type": "display_data"
    }
   ],
   "source": [
    "sns.set_style(\"whitegrid\")\n",
    "\n",
    "ax = sns.kdeplot(df.NU_IDADE, shade=True, color='r')\n",
    "\n",
    "ax.set_title('Distribuição da idade dos alunos de IES')\n",
    "ax.set_ylabel('Densidade (%)/100')\n",
    "ax.set_xlabel('Idades alunos')\n",
    "\n",
    "plt.show()"
   ]
  },
  {
   "cell_type": "markdown",
   "metadata": {},
   "source": [
    "##### Percebe-se uma predominância de pessoas jovens."
   ]
  },
  {
   "cell_type": "code",
   "execution_count": null,
   "metadata": {},
   "outputs": [],
   "source": []
  }
 ],
 "metadata": {
  "interpreter": {
   "hash": "62026d6115dea9c7533ba2d3966bb08acda9af192e1196f8f3ea7b4d1bcb3324"
  },
  "kernelspec": {
   "display_name": "Python 3 (ipykernel)",
   "language": "python",
   "name": "python3"
  },
  "language_info": {
   "codemirror_mode": {
    "name": "ipython",
    "version": 3
   },
   "file_extension": ".py",
   "mimetype": "text/x-python",
   "name": "python",
   "nbconvert_exporter": "python",
   "pygments_lexer": "ipython3",
   "version": "3.9.6"
  }
 },
 "nbformat": 4,
 "nbformat_minor": 4
}
