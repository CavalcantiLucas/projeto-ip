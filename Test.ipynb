{
 "cells": [
  {
   "cell_type": "markdown",
   "id": "886b85c5",
   "metadata": {},
   "source": [
    "# Microdados da Educação Superior"
   ]
  },
  {
   "cell_type": "code",
   "execution_count": null,
   "id": "6545ed15",
   "metadata": {},
   "outputs": [],
   "source": [
    "import pandas as pd\n",
    "import random\n",
    "import matplotlib.pyplot as plt \n",
    "import numpy as npnp\n",
    "\n",
    "p = 0.01\n",
    "\n",
    "df = pd.read_csv(\n",
    "    'MICRODADOS_ENEM_2019.csv',\n",
    "    header=None,\n",
    "    encoding = \"ISO-8859-1\",\n",
    "    skiprows=lambda i: i > 0 and random.random() > p,\n",
    "    sep=\";\"\n",
    ")\n",
    "\n",
    "df.head()"
   ]
  },
  {
   "cell_type": "code",
   "execution_count": null,
   "id": "caba8550",
   "metadata": {},
   "outputs": [],
   "source": [
    "df"
   ]
  },
  {
   "cell_type": "code",
   "execution_count": null,
   "id": "acc323fb",
   "metadata": {},
   "outputs": [],
   "source": []
  }
 ],
 "metadata": {
  "interpreter": {
   "hash": "aee8b7b246df8f9039afb4144a1f6fd8d2ca17a180786b69acc140d282b71a49"
  },
  "kernelspec": {
   "display_name": "Python 3",
   "language": "python",
   "name": "python3"
  },
  "language_info": {
   "codemirror_mode": {
    "name": "ipython",
    "version": 3
   },
   "file_extension": ".py",
   "mimetype": "text/x-python",
   "name": "python",
   "nbconvert_exporter": "python",
   "pygments_lexer": "ipython3",
   "version": "3.9.6"
  }
 },
 "nbformat": 4,
 "nbformat_minor": 5
}
