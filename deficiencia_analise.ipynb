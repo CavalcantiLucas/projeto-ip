{
 "cells": [
  {
   "cell_type": "markdown",
   "id": "0fb686bc",
   "metadata": {},
   "source": [
    "# Microdados da Educação Superior"
   ]
  },
  {
   "cell_type": "code",
   "execution_count": 9,
   "id": "5a642547",
   "metadata": {},
   "outputs": [
    {
     "data": {
      "text/html": [
       "<div>\n",
       "<style scoped>\n",
       "    .dataframe tbody tr th:only-of-type {\n",
       "        vertical-align: middle;\n",
       "    }\n",
       "\n",
       "    .dataframe tbody tr th {\n",
       "        vertical-align: top;\n",
       "    }\n",
       "\n",
       "    .dataframe thead th {\n",
       "        text-align: right;\n",
       "    }\n",
       "</style>\n",
       "<table border=\"1\" class=\"dataframe\">\n",
       "  <thead>\n",
       "    <tr style=\"text-align: right;\">\n",
       "      <th></th>\n",
       "      <th>NU_ANO_CENSO</th>\n",
       "      <th>CO_IES</th>\n",
       "      <th>TP_CATEGORIA_ADMINISTRATIVA</th>\n",
       "      <th>TP_ORGANIZACAO_ACADEMICA</th>\n",
       "      <th>CO_CURSO</th>\n",
       "      <th>CO_CURSO_POLO</th>\n",
       "      <th>TP_TURNO</th>\n",
       "      <th>TP_GRAU_ACADEMICO</th>\n",
       "      <th>TP_MODALIDADE_ENSINO</th>\n",
       "      <th>TP_NIVEL_ACADEMICO</th>\n",
       "      <th>...</th>\n",
       "      <th>TP_MOBILIDADE_ACADEMICA</th>\n",
       "      <th>TP_MOBILIDADE_ACADEMICA_INTERN</th>\n",
       "      <th>CO_IES_DESTINO</th>\n",
       "      <th>CO_PAIS_DESTINO</th>\n",
       "      <th>IN_MATRICULA</th>\n",
       "      <th>IN_CONCLUINTE</th>\n",
       "      <th>IN_INGRESSO_TOTAL</th>\n",
       "      <th>IN_INGRESSO_VAGA_NOVA</th>\n",
       "      <th>IN_INGRESSO_PROCESSO_SELETIVO</th>\n",
       "      <th>NU_ANO_INGRESSO</th>\n",
       "    </tr>\n",
       "  </thead>\n",
       "  <tbody>\n",
       "    <tr>\n",
       "      <th>0</th>\n",
       "      <td>2019</td>\n",
       "      <td>1</td>\n",
       "      <td>1</td>\n",
       "      <td>1</td>\n",
       "      <td>1</td>\n",
       "      <td>NaN</td>\n",
       "      <td>1.0</td>\n",
       "      <td>1.0</td>\n",
       "      <td>1</td>\n",
       "      <td>1</td>\n",
       "      <td>...</td>\n",
       "      <td>NaN</td>\n",
       "      <td>NaN</td>\n",
       "      <td>NaN</td>\n",
       "      <td>NaN</td>\n",
       "      <td>1</td>\n",
       "      <td>0</td>\n",
       "      <td>0</td>\n",
       "      <td>0</td>\n",
       "      <td>NaN</td>\n",
       "      <td>2016</td>\n",
       "    </tr>\n",
       "    <tr>\n",
       "      <th>1</th>\n",
       "      <td>2019</td>\n",
       "      <td>1</td>\n",
       "      <td>1</td>\n",
       "      <td>1</td>\n",
       "      <td>2</td>\n",
       "      <td>NaN</td>\n",
       "      <td>1.0</td>\n",
       "      <td>1.0</td>\n",
       "      <td>1</td>\n",
       "      <td>1</td>\n",
       "      <td>...</td>\n",
       "      <td>NaN</td>\n",
       "      <td>NaN</td>\n",
       "      <td>NaN</td>\n",
       "      <td>NaN</td>\n",
       "      <td>0</td>\n",
       "      <td>0</td>\n",
       "      <td>0</td>\n",
       "      <td>0</td>\n",
       "      <td>NaN</td>\n",
       "      <td>2013</td>\n",
       "    </tr>\n",
       "    <tr>\n",
       "      <th>2</th>\n",
       "      <td>2019</td>\n",
       "      <td>1</td>\n",
       "      <td>1</td>\n",
       "      <td>1</td>\n",
       "      <td>2</td>\n",
       "      <td>NaN</td>\n",
       "      <td>1.0</td>\n",
       "      <td>1.0</td>\n",
       "      <td>1</td>\n",
       "      <td>1</td>\n",
       "      <td>...</td>\n",
       "      <td>NaN</td>\n",
       "      <td>NaN</td>\n",
       "      <td>NaN</td>\n",
       "      <td>NaN</td>\n",
       "      <td>1</td>\n",
       "      <td>1</td>\n",
       "      <td>0</td>\n",
       "      <td>0</td>\n",
       "      <td>NaN</td>\n",
       "      <td>2015</td>\n",
       "    </tr>\n",
       "    <tr>\n",
       "      <th>3</th>\n",
       "      <td>2019</td>\n",
       "      <td>1</td>\n",
       "      <td>1</td>\n",
       "      <td>1</td>\n",
       "      <td>2</td>\n",
       "      <td>NaN</td>\n",
       "      <td>1.0</td>\n",
       "      <td>1.0</td>\n",
       "      <td>1</td>\n",
       "      <td>1</td>\n",
       "      <td>...</td>\n",
       "      <td>NaN</td>\n",
       "      <td>NaN</td>\n",
       "      <td>NaN</td>\n",
       "      <td>NaN</td>\n",
       "      <td>0</td>\n",
       "      <td>0</td>\n",
       "      <td>0</td>\n",
       "      <td>0</td>\n",
       "      <td>NaN</td>\n",
       "      <td>2016</td>\n",
       "    </tr>\n",
       "    <tr>\n",
       "      <th>4</th>\n",
       "      <td>2019</td>\n",
       "      <td>1</td>\n",
       "      <td>1</td>\n",
       "      <td>1</td>\n",
       "      <td>2</td>\n",
       "      <td>NaN</td>\n",
       "      <td>3.0</td>\n",
       "      <td>1.0</td>\n",
       "      <td>1</td>\n",
       "      <td>1</td>\n",
       "      <td>...</td>\n",
       "      <td>NaN</td>\n",
       "      <td>NaN</td>\n",
       "      <td>NaN</td>\n",
       "      <td>NaN</td>\n",
       "      <td>1</td>\n",
       "      <td>0</td>\n",
       "      <td>0</td>\n",
       "      <td>0</td>\n",
       "      <td>NaN</td>\n",
       "      <td>2018</td>\n",
       "    </tr>\n",
       "  </tbody>\n",
       "</table>\n",
       "<p>5 rows × 105 columns</p>\n",
       "</div>"
      ],
      "text/plain": [
       "   NU_ANO_CENSO  CO_IES  TP_CATEGORIA_ADMINISTRATIVA  \\\n",
       "0          2019       1                            1   \n",
       "1          2019       1                            1   \n",
       "2          2019       1                            1   \n",
       "3          2019       1                            1   \n",
       "4          2019       1                            1   \n",
       "\n",
       "   TP_ORGANIZACAO_ACADEMICA  CO_CURSO  CO_CURSO_POLO  TP_TURNO  \\\n",
       "0                         1         1            NaN       1.0   \n",
       "1                         1         2            NaN       1.0   \n",
       "2                         1         2            NaN       1.0   \n",
       "3                         1         2            NaN       1.0   \n",
       "4                         1         2            NaN       3.0   \n",
       "\n",
       "   TP_GRAU_ACADEMICO  TP_MODALIDADE_ENSINO  TP_NIVEL_ACADEMICO  ...  \\\n",
       "0                1.0                     1                   1  ...   \n",
       "1                1.0                     1                   1  ...   \n",
       "2                1.0                     1                   1  ...   \n",
       "3                1.0                     1                   1  ...   \n",
       "4                1.0                     1                   1  ...   \n",
       "\n",
       "  TP_MOBILIDADE_ACADEMICA TP_MOBILIDADE_ACADEMICA_INTERN  CO_IES_DESTINO  \\\n",
       "0                     NaN                            NaN             NaN   \n",
       "1                     NaN                            NaN             NaN   \n",
       "2                     NaN                            NaN             NaN   \n",
       "3                     NaN                            NaN             NaN   \n",
       "4                     NaN                            NaN             NaN   \n",
       "\n",
       "   CO_PAIS_DESTINO  IN_MATRICULA  IN_CONCLUINTE  IN_INGRESSO_TOTAL  \\\n",
       "0              NaN             1              0                  0   \n",
       "1              NaN             0              0                  0   \n",
       "2              NaN             1              1                  0   \n",
       "3              NaN             0              0                  0   \n",
       "4              NaN             1              0                  0   \n",
       "\n",
       "   IN_INGRESSO_VAGA_NOVA  IN_INGRESSO_PROCESSO_SELETIVO  NU_ANO_INGRESSO  \n",
       "0                      0                            NaN             2016  \n",
       "1                      0                            NaN             2013  \n",
       "2                      0                            NaN             2015  \n",
       "3                      0                            NaN             2016  \n",
       "4                      0                            NaN             2018  \n",
       "\n",
       "[5 rows x 105 columns]"
      ]
     },
     "execution_count": 9,
     "metadata": {},
     "output_type": "execute_result"
    }
   ],
   "source": [
    "import pandas as pd\n",
    "import random\n",
    "import matplotlib.pyplot as plt \n",
    "import numpy as np\n",
    "\n",
    "p = 0.01\n",
    "\n",
    "df = pd.read_csv(\n",
    "    'SUP_ALUNO_2019.csv',\n",
    "    encoding = \"ISO-8859-1\",\n",
    "    skiprows=lambda i: i > 0 and random.random() > p,\n",
    "    sep=\"|\"\n",
    ")\n",
    "\n",
    "df.head()"
   ]
  },
  {
   "cell_type": "markdown",
   "id": "e83112da",
   "metadata": {},
   "source": [
    "## Porcentagem de pessoas com deficiência no ensino superior"
   ]
  },
  {
   "cell_type": "code",
   "execution_count": 10,
   "id": "84871623",
   "metadata": {},
   "outputs": [
    {
     "data": {
      "image/png": "[encoded data removed]",
      "text/plain": [
       "<Figure size 432x288 with 1 Axes>"
      ]
     },
     "metadata": {},
     "output_type": "display_data"
    }
   ],
   "source": [
    "disabled = df.loc[df['IN_DEFICIENCIA'] == 1].count()[0]\n",
    "nondisabled = df.loc[df['IN_DEFICIENCIA'] == 0].count()[0]\n",
    "none = df.loc[df['IN_DEFICIENCIA'] == 9].count()[0]\n",
    "\n",
    "labels = ['Com deficiência', 'Sem deficiência']\n",
    "values = [disabled, nondisabled]\n",
    "\n",
    "fig1, ax1 = plt.subplots()\n",
    "\n",
    "ax1.pie(values, labels=labels, autopct='%1.1f%%', shadow=False, startangle=90)\n",
    "\n",
    "ax1.axis('equal')\n",
    "plt.show()"
   ]
  },
  {
   "cell_type": "markdown",
   "id": "927fe299",
   "metadata": {},
   "source": [
    "#### Vei, existe uma Lei que diz que precisa ter 5% de pessoas com deficiência na universidade. Olha a diferença, FODA."
   ]
  },
  {
   "cell_type": "code",
   "execution_count": 30,
   "id": "cc1c36a7",
   "metadata": {},
   "outputs": [
    {
     "data": {
      "image/png": "[encoded data removed]",
      "text/plain": [
       "<Figure size 432x288 with 1 Axes>"
      ]
     },
     "metadata": {},
     "output_type": "display_data"
    }
   ],
   "source": [
    "stds = df.loc[df['IN_DEFICIENCIA'] == 1]\n",
    "\n",
    "cursando = stds.loc[stds['TP_SITUACAO'] == 2].count()[0]\n",
    "trancado = stds.loc[stds['TP_SITUACAO'] == 3].count()[0]\n",
    "desvinculado = stds.loc[stds['TP_SITUACAO'] == 4].count()[0]\n",
    "transferido = stds.loc[stds['TP_SITUACAO'] == 5].count()[0]\n",
    "formado = stds.loc[stds['TP_SITUACAO'] == 6].count()[0]\n",
    "falecido = stds.loc[stds['TP_SITUACAO'] == 7].count()[0]\n",
    "\n",
    "still = cursando + transferido\n",
    "not_there = trancado + desvinculado + formado + falecido\n",
    "\n",
    "labels = ['Ainda cursa/finalizou', 'Não cursa mais']\n",
    "values = [still, not_there]\n",
    "\n",
    "fig1, ax1 = plt.subplots()\n",
    "\n",
    "ax1.pie(values, labels=labels, autopct='%1.1f%%', shadow=False, startangle=90)\n",
    "\n",
    "ax1.axis('equal')\n",
    "plt.show()"
   ]
  },
  {
   "cell_type": "markdown",
   "id": "982df19a",
   "metadata": {},
   "source": [
    "### Desses 0.6%, 32.4% ainda desiste de alguma forma."
   ]
  },
  {
   "cell_type": "code",
   "execution_count": 34,
   "id": "0889c3fa",
   "metadata": {},
   "outputs": [
    {
     "data": {
      "image/png": "[encoded data removed]",
      "text/plain": [
       "<Figure size 432x288 with 1 Axes>"
      ]
     },
     "metadata": {},
     "output_type": "display_data"
    }
   ],
   "source": [
    "woman = stds.loc[stds['TP_SEXO'] == 1].count()[0]\n",
    "men = stds.loc[stds['TP_SEXO'] == 2].count()[0]\n",
    "\n",
    "\n",
    "labels = ['Mulheres', 'Homens']\n",
    "values = [woman, men]\n",
    "\n",
    "fig1, ax1 = plt.subplots()\n",
    "\n",
    "ax1.pie(values, labels=labels, autopct='%1.1f%%', shadow=False, startangle=90)\n",
    "\n",
    "ax1.axis('equal')\n",
    "plt.show()"
   ]
  },
  {
   "cell_type": "markdown",
   "id": "48f54581",
   "metadata": {},
   "source": [
    "### isso daqui não diz mta coisa. mas quando se compara com o geral..."
   ]
  },
  {
   "cell_type": "code",
   "execution_count": 35,
   "id": "5f5dd042",
   "metadata": {},
   "outputs": [
    {
     "data": {
      "image/png": "[encoded data removed]",
      "text/plain": [
       "<Figure size 432x288 with 1 Axes>"
      ]
     },
     "metadata": {},
     "output_type": "display_data"
    }
   ],
   "source": [
    "womens = df.loc[df['TP_SEXO'] == 1].count()[0] # Localizando as mulheres no dataframe na coluna TP_SEXO, [0] serve para retornar o valor da tabela\n",
    "men = df.loc[df['TP_SEXO'] == 2].count()[0]\n",
    "\n",
    "labels = ['Mulheres', 'Homens']\n",
    "values = [womens, men]\n",
    "\n",
    "fig1, ax1 = plt.subplots() # Retorna uma tupla(Figure, Axes)\n",
    "\n",
    "ax1.pie(values, labels=labels, autopct='%1.1f%%', shadow=False, startangle=90) # Formatação do gráfico\n",
    "\n",
    "ax1.axis('equal') # Deixar a forma redondinha\n",
    "plt.show()"
   ]
  },
  {
   "cell_type": "markdown",
   "id": "7477cc8d",
   "metadata": {},
   "source": [
    "### Por que mulheres com deficiência tem menos presença nas universidades? Quando na verdade, na amostra geral, mulheres são maioria. Não é uma diferença pequena, são mais de 6.4%!!!"
   ]
  },
  {
   "cell_type": "code",
   "execution_count": 36,
   "id": "32a791be",
   "metadata": {},
   "outputs": [
    {
     "data": {
      "image/png": "[encoded data removed]",
      "text/plain": [
       "<Figure size 432x288 with 1 Axes>"
      ]
     },
     "metadata": {},
     "output_type": "display_data"
    }
   ],
   "source": [
    "stds = df.loc[df['IN_DEFICIENCIA'] == 1]\n",
    "\n",
    "not_recieve = stds.loc[stds['IN_APOIO_SOCIAL'] == 0].count()[0]\n",
    "recieving = stds.loc[stds['IN_APOIO_SOCIAL'] == 1].count()[0]\n",
    "\n",
    "labels = ['Recebe apoio', 'Não recebe apoio']\n",
    "values = [recieving, not_recieve]\n",
    "\n",
    "fig1, ax1 = plt.subplots()\n",
    "\n",
    "ax1.pie(values, labels=labels, autopct='%1.1f%%', shadow=False, startangle=90)\n",
    "\n",
    "ax1.axis('equal')\n",
    "plt.show()"
   ]
  },
  {
   "cell_type": "code",
   "execution_count": 37,
   "id": "84b6e09d",
   "metadata": {},
   "outputs": [
    {
     "data": {
      "image/png": "[encoded data removed]",
      "text/plain": [
       "<Figure size 432x288 with 1 Axes>"
      ]
     },
     "metadata": {},
     "output_type": "display_data"
    }
   ],
   "source": [
    "not_recieve = df.loc[df['IN_APOIO_SOCIAL'] == 0].count()[0]\n",
    "recieving = df.loc[df['IN_APOIO_SOCIAL'] == 1].count()[0]\n",
    "\n",
    "labels = ['Recebe apoio', 'Não recebe apoio']\n",
    "values = [recieving, not_recieve]\n",
    "\n",
    "fig1, ax1 = plt.subplots()\n",
    "\n",
    "ax1.pie(values, labels=labels, autopct='%1.1f%%', shadow=False, startangle=90)\n",
    "\n",
    "ax1.axis('equal')\n",
    "plt.show()"
   ]
  },
  {
   "cell_type": "code",
   "execution_count": 60,
   "id": "ab3f4605",
   "metadata": {},
   "outputs": [
    {
     "data": {
      "image/png": "[encoded data removed]",
      "text/plain": [
       "<Figure size 432x288 with 1 Axes>"
      ]
     },
     "metadata": {},
     "output_type": "display_data"
    }
   ],
   "source": [
    "stds = df.loc[df['IN_DEFICIENCIA'] == 1]\n",
    "\n",
    "B = stds.loc[stds['TP_COR_RACA'] == 1].count()[0]\n",
    "P = stds.loc[stds['TP_COR_RACA'] == 2].count()[0]\n",
    "Pa = stds.loc[stds['TP_COR_RACA'] == 3].count()[0]\n",
    "A = stds.loc[stds['TP_COR_RACA'] == 4].count()[0]\n",
    "In = stds.loc[stds['TP_COR_RACA'] == 5].count()[0]\n",
    "\n",
    "\n",
    "labels = ['Branca', 'Preta', 'Parda', 'Amarela', 'Indígena']\n",
    "values = [B, P, Pa, A, In]\n",
    "\n",
    "fig1, ax1 = plt.subplots()\n",
    "\n",
    "ax1.pie(values, labels=labels, autopct='%1.1f%%', shadow=False, startangle=90)\n",
    "\n",
    "ax1.axis('equal')\n",
    "plt.show()"
   ]
  },
  {
   "cell_type": "code",
   "execution_count": 41,
   "id": "01bc069e",
   "metadata": {},
   "outputs": [
    {
     "data": {
      "image/png": "[encoded data removed]",
      "text/plain": [
       "<Figure size 432x288 with 1 Axes>"
      ]
     },
     "metadata": {},
     "output_type": "display_data"
    }
   ],
   "source": [
    "B = df.loc[df['TP_COR_RACA'] == 1].count()[0]\n",
    "P = df.loc[df['TP_COR_RACA'] == 2].count()[0]\n",
    "Pa = df.loc[df['TP_COR_RACA'] == 3].count()[0]\n",
    "A = df.loc[df['TP_COR_RACA'] == 4].count()[0]\n",
    "In = df.loc[df['TP_COR_RACA'] == 5].count()[0]\n",
    "\n",
    "labels = ['Branca', 'Preta', 'Parda', 'Amarela', 'Indígena']\n",
    "values = [B, P, Pa, A, In]\n",
    "\n",
    "fig1, ax1 = plt.subplots()\n",
    "\n",
    "ax1.pie(values, labels=labels, autopct='%1.1f%%', shadow=False, startangle=90)\n",
    "\n",
    "ax1.axis('equal')\n",
    "plt.show()"
   ]
  },
  {
   "cell_type": "code",
   "execution_count": null,
   "id": "5c1edd50",
   "metadata": {},
   "outputs": [],
   "source": []
  }
 ],
 "metadata": {
  "interpreter": {
   "hash": "aee8b7b246df8f9039afb4144a1f6fd8d2ca17a180786b69acc140d282b71a49"
  },
  "kernelspec": {
   "display_name": "Python 3",
   "language": "python",
   "name": "python3"
  },
  "language_info": {
   "codemirror_mode": {
    "name": "ipython",
    "version": 3
   },
   "file_extension": ".py",
   "mimetype": "text/x-python",
   "name": "python",
   "nbconvert_exporter": "python",
   "pygments_lexer": "ipython3",
   "version": "3.9.6"
  }
 },
 "nbformat": 4,
 "nbformat_minor": 5
}
